{
 "cells": [
  {
   "cell_type": "code",
   "execution_count": 92,
   "id": "c3d13094",
   "metadata": {},
   "outputs": [],
   "source": [
    "input_grid = [\n",
    "                    [5, 3, 0, 0, 7, 0, 0, 0, 0],\n",
    "                    [6, 0, 0, 1, 9, 5, 0, 0, 0], \n",
    "                    [0, 9, 8, 0, 0, 0, 0, 6, 0], \n",
    "                    [8, 0, 0, 0, 6, 0, 0, 0, 3], \n",
    "                    [4, 0, 0, 8, 0, 3, 0, 0, 1], \n",
    "                    [7, 0, 0, 0, 2, 0, 0, 0, 6], \n",
    "                    [0, 6, 0, 0, 0, 0, 2, 8, 0], \n",
    "                    [0, 0, 0, 4, 1, 9, 0, 0, 5], \n",
    "                    [0, 0, 0, 0, 8, 0, 0, 7, 9]\n",
    "            ]"
   ]
  },
  {
   "cell_type": "code",
   "execution_count": 73,
   "id": "95d4aa1f",
   "metadata": {},
   "outputs": [],
   "source": [
    "def check(x,y,n):\n",
    "    \"\"\"Checking for row (x) and column (y), if value 'n' is a possible. If it \n",
    "    is, function returns 'True', else 'False'\"\"\"\n",
    "    for i in range(9):\n",
    "        if input_grid[x][i] == n:\n",
    "            return False\n",
    "        \n",
    "    for i in range(9):\n",
    "        if input_grid[i][y] == n:\n",
    "            return False\n",
    "    \n",
    "    for i in range(3):\n",
    "        for j in range(3):\n",
    "            if input_grid[(x//3)*3+i][(y//3)*3+j] == n:\n",
    "                return False\n",
    "    \n",
    "    return True\n",
    "        "
   ]
  },
  {
   "cell_type": "code",
   "execution_count": 74,
   "id": "19999a04",
   "metadata": {
    "scrolled": true
   },
   "outputs": [
    {
     "data": {
      "text/plain": [
       "True"
      ]
     },
     "execution_count": 74,
     "metadata": {},
     "output_type": "execute_result"
    }
   ],
   "source": [
    "check(5,2,9)"
   ]
  },
  {
   "cell_type": "code",
   "execution_count": 63,
   "id": "0f38d712",
   "metadata": {},
   "outputs": [],
   "source": [
    "import numpy as np"
   ]
  },
  {
   "cell_type": "code",
   "execution_count": 95,
   "id": "79b68b9f",
   "metadata": {},
   "outputs": [],
   "source": [
    "def solver(sudoku = input_grid):\n",
    "    \"\"\"Function solving the input sudoku recursively using backtracking. If there are multiple solutions,\n",
    "    all solutions will be shown with a line break in between them.\"\"\"\n",
    "    \n",
    "    for i in range(9):\n",
    "        \n",
    "        for j in range(9):\n",
    "            \n",
    "            if sudoku[i][j] == 0:\n",
    "                \n",
    "                for k in range(1,10):\n",
    "                    \n",
    "                    if check(i,j,k):\n",
    "                        \n",
    "                        sudoku[i][j] = k\n",
    "                        # Recursion: Continue to solve sudoku with k as input in field input_grid[i][j]\n",
    "                        solver()\n",
    "                        #If solver function doesn't find a solution, it should place a 0 in the field [i][j] again, so that a different number can be tried\n",
    "                        sudoku[i][j] = 0\n",
    "                return\n",
    "    print(np.matrix(sudoku), \"\\n\")\n",
    "                    \n",
    "    \n",
    "                        "
   ]
  },
  {
   "cell_type": "code",
   "execution_count": 94,
   "id": "feaaadab",
   "metadata": {
    "scrolled": true
   },
   "outputs": [
    {
     "name": "stdout",
     "output_type": "stream",
     "text": [
      "[[5 3 4 6 7 8 9 1 2]\n",
      " [6 7 2 1 9 5 3 4 8]\n",
      " [1 9 8 3 4 2 5 6 7]\n",
      " [8 5 9 7 6 1 4 2 3]\n",
      " [4 2 6 8 5 3 7 9 1]\n",
      " [7 1 3 9 2 4 8 5 6]\n",
      " [9 6 1 5 3 7 2 8 4]\n",
      " [2 8 7 4 1 9 6 3 5]\n",
      " [3 4 5 2 8 6 1 7 9]] \n",
      "\n"
     ]
    }
   ],
   "source": [
    "solver()"
   ]
  }
 ],
 "metadata": {
  "kernelspec": {
   "display_name": "Python 3 (ipykernel)",
   "language": "python",
   "name": "python3"
  },
  "language_info": {
   "codemirror_mode": {
    "name": "ipython",
    "version": 3
   },
   "file_extension": ".py",
   "mimetype": "text/x-python",
   "name": "python",
   "nbconvert_exporter": "python",
   "pygments_lexer": "ipython3",
   "version": "3.8.12"
  },
  "toc": {
   "base_numbering": 1,
   "nav_menu": {},
   "number_sections": true,
   "sideBar": true,
   "skip_h1_title": false,
   "title_cell": "Table of Contents",
   "title_sidebar": "Contents",
   "toc_cell": false,
   "toc_position": {},
   "toc_section_display": true,
   "toc_window_display": false
  }
 },
 "nbformat": 4,
 "nbformat_minor": 5
}
